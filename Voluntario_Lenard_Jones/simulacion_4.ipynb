{
 "cells": [
  {
   "cell_type": "code",
   "execution_count": null,
   "id": "0ef15b78",
   "metadata": {},
   "outputs": [],
   "source": [
    "import numpy as np\n",
    "import matplotlib.pyplot as plt\n",
    "import matplotlib.animation as animation\n",
    "\n",
    "\n",
    "data = np.loadtxt('C:/Users/Teresa/Desktop/COMPU/Fisica_Computacional/Voluntario_Lenard_Jones/apartado_4/datos_simulacion.txt')\n",
    "N, L, h, T = int(data[0]), data[1], data[2], data[3]\n",
    "\n",
    "# Parámetros a adaptar\n",
    "filename    = \"C:/Users/Teresa/Desktop/COMPU/Fisica_Computacional/Voluntario_Lenard_Jones/apartado_4/posiciones.txt\"   # nombre de tu fichero              \n",
    "interval_ms = 2                # tiempo entre frames en ms\n",
    "output_mp4  = \"C:/Users/Teresa/Desktop/COMPU/Fisica_Computacional/Voluntario_Lenard_Jones/apartado_4/simulacion.mp4\"   # nombre del fichero de salida\n",
    "\n",
    "# --- 1) Leer y estructurar datos ---\n",
    "# Cada bloque de N líneas, dos columnas x,y\n",
    "data = np.loadtxt(filename)\n",
    "n_frames = data.shape[0] // N\n",
    "\n",
    "# reshaped: (n_frames, N, 2)\n",
    "frames = data.reshape((n_frames, N, 2))\n",
    "\n",
    "# --- 2) Preparar figura ---\n",
    "fig, ax = plt.subplots()\n",
    "scat = ax.scatter([], [], s=50)\n",
    "\n",
    "# Ajusta límites en función de tus datos\n",
    "ax.set_xlim( 0, L)\n",
    "ax.set_ylim(0, L)\n",
    "ax.set_xlabel('x'); ax.set_ylabel('y')\n",
    "\n",
    "# Función de inicialización\n",
    "def init():\n",
    "    scat.set_offsets(np.empty((0,2)))\n",
    "    return scat,\n",
    "\n",
    "# Función que actualiza cada frame\n",
    "def update(frame_idx):\n",
    "    xy = frames[frame_idx]\n",
    "    scat.set_offsets(xy)\n",
    "    ax.set_title(f'Tiempo: frame {frame_idx+1}/{n_frames}')\n",
    "    return scat,\n",
    "\n",
    "# --- 3) Construir animación ---\n",
    "anim = animation.FuncAnimation(fig, update,\n",
    "                               frames=range(n_frames),\n",
    "                               init_func=init,\n",
    "                               interval=interval_ms,\n",
    "                               blit=True)\n",
    "\n",
    "# Mostrar por pantalla\n",
    "plt.show()\n",
    "\n",
    "# Guardar como vídeo mp4 (requiere ffmpeg instalado)\n",
    "#anim.save(output_mp4, writer='ffmpeg', dpi=150)\n",
    "#print(f'Vídeo guardado en {output_mp4}')\n"
   ]
  }
 ],
 "metadata": {
  "kernelspec": {
   "display_name": "base",
   "language": "python",
   "name": "python3"
  },
  "language_info": {
   "codemirror_mode": {
    "name": "ipython",
    "version": 3
   },
   "file_extension": ".py",
   "mimetype": "text/x-python",
   "name": "python",
   "nbconvert_exporter": "python",
   "pygments_lexer": "ipython3",
   "version": "3.12.8"
  }
 },
 "nbformat": 4,
 "nbformat_minor": 5
}
